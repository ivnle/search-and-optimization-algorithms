{
 "cells": [
  {
   "cell_type": "markdown",
   "metadata": {},
   "source": [
    "# Newton Descent\n",
    "\n",
    "\n",
    "$$x_{k+1} \\leftarrow x_k + \\alpha_k p_k$$"
   ]
  },
  {
   "cell_type": "markdown",
   "metadata": {},
   "source": [
    "Let's use a very simple function to illustrate how gradient descent works. Our function of choice will be\n",
    "\n",
    "$$ f(x, y) = x^2 + 2y^2 $$\n",
    "\n",
    "It's obvious that the local (and global) minimum occurs at $x, y =  (0, 0)$ but we can apply the same algorithm to more complex functions where it's not obvious at all where a local minimum occurs."
   ]
  },
  {
   "cell_type": "code",
   "execution_count": 52,
   "metadata": {},
   "outputs": [],
   "source": [
    "# Import libraries we need to work with vectors and visualization\n",
    "import numpy as np\n",
    "import matplotlib.pyplot as plt\n",
    "\n",
    "# Set random seed for reproducibility\n",
    "np.random.seed(1)"
   ]
  },
  {
   "cell_type": "code",
   "execution_count": 53,
   "metadata": {},
   "outputs": [
    {
     "name": "stdout",
     "output_type": "stream",
     "text": [
      "[-5  1]\n"
     ]
    }
   ],
   "source": [
    "# Initialize x to be some random point in our function's input space\n",
    "x = np.random.randint(-10, 10, 2)\n",
    "print(x)"
   ]
  },
  {
   "cell_type": "code",
   "execution_count": 54,
   "metadata": {},
   "outputs": [
    {
     "name": "stdout",
     "output_type": "stream",
     "text": [
      "27\n"
     ]
    }
   ],
   "source": [
    "# Our function f\n",
    "def f(x: np.array) -> np.int64:\n",
    "    M = np.array([[1, 0],\n",
    "                  [0, 2]])\n",
    "    return x.T @ M @ x\n",
    "\n",
    "print(f(x))"
   ]
  },
  {
   "cell_type": "code",
   "execution_count": 55,
   "metadata": {},
   "outputs": [
    {
     "data": {
      "text/plain": [
       "array([-10,   4])"
      ]
     },
     "execution_count": 55,
     "metadata": {},
     "output_type": "execute_result"
    }
   ],
   "source": [
    "# The gradient of f\n",
    "def grad_f(x: np.array) -> np.array:\n",
    "    M = np.array([[1, 0],\n",
    "                  [0, 2]])\n",
    "    return M @ x + M.T @ x\n",
    "\n",
    "grad_f(x)"
   ]
  },
  {
   "cell_type": "code",
   "execution_count": 56,
   "metadata": {},
   "outputs": [],
   "source": [
    "# The hessian of f\n",
    "def hessian_f() -> np.array:\n",
    "    M = np.array([[1, 0],\n",
    "                  [0, 2]])\n",
    "    return M + M.T"
   ]
  },
  {
   "cell_type": "code",
   "execution_count": 57,
   "metadata": {},
   "outputs": [],
   "source": [
    "# The inverse of the hessian of f\n",
    "inverse_hessian_f = np.linalg.inv(hessian_f())"
   ]
  },
  {
   "cell_type": "code",
   "execution_count": 58,
   "metadata": {},
   "outputs": [],
   "source": [
    "# Set our hyperparameters\n",
    "step_size = 1\n",
    "stopping_criteria = 10e-9"
   ]
  },
  {
   "cell_type": "code",
   "execution_count": 59,
   "metadata": {},
   "outputs": [
    {
     "name": "stdout",
     "output_type": "stream",
     "text": [
      "Final x value: [0. 0.]\n",
      "Final f(x) value: 0.0\n",
      "It took 2 iterations of gradient descent to reach convergence.\n"
     ]
    }
   ],
   "source": [
    "# Keep track of the history of our x and f(x) values as newton descent progresses\n",
    "x_history = [x]\n",
    "f_history = [f(x)]\n",
    "\n",
    "# Use newton descent to find the minimum of our function\n",
    "while True:\n",
    "    x = x + step_size * -1 * inverse_hessian_f @ grad_f(x)\n",
    "    \n",
    "    x_history.append(x)\n",
    "    f_history.append(f(x))\n",
    "    \n",
    "    change = abs(f_history[-1] - f_history[-2])\n",
    "    if change < stopping_criteria:\n",
    "        break\n",
    "\n",
    "print(f'Final x value: {x}')\n",
    "print(f'Final f(x) value: {f(x)}')\n",
    "print(f'It took {len(f_history)-1} iterations of gradient descent to reach convergence.')"
   ]
  },
  {
   "cell_type": "code",
   "execution_count": 60,
   "metadata": {},
   "outputs": [
    {
     "data": {
      "text/plain": [
       "Text(0.5, 0, 'iteration')"
      ]
     },
     "execution_count": 60,
     "metadata": {},
     "output_type": "execute_result"
    },
    {
     "data": {
      "image/png": "[encoded data removed]",
      "text/plain": [
       "<Figure size 432x288 with 1 Axes>"
      ]
     },
     "metadata": {
      "needs_background": "light"
     },
     "output_type": "display_data"
    }
   ],
   "source": [
    "# Let's visualize how f(x) changes as we perform more iterations of gradient descent\n",
    "plt.plot(f_history)\n",
    "# set y and x axis labels\n",
    "plt.ylabel('$f(x)$')\n",
    "plt.xlabel('iteration')\n"
   ]
  }
 ],
 "metadata": {
  "interpreter": {
   "hash": "a66b54a9f0788491606d501b84323f8cb0ac4601bc252414d0e9641169cc2515"
  },
  "kernelspec": {
   "display_name": "Python 3.8.8 64-bit ('base': conda)",
   "name": "python3"
  },
  "language_info": {
   "codemirror_mode": {
    "name": "ipython",
    "version": 3
   },
   "file_extension": ".py",
   "mimetype": "text/x-python",
   "name": "python",
   "nbconvert_exporter": "python",
   "pygments_lexer": "ipython3",
   "version": "3.8.8"
  },
  "orig_nbformat": 4
 },
 "nbformat": 4,
 "nbformat_minor": 2
}
